{
 "cells": [
  {
   "cell_type": "code",
   "execution_count": 216,
   "metadata": {},
   "outputs": [],
   "source": [
    "import pandas as pd \n",
    "import numpy as np\n",
    "import seaborn as sns \n",
    "import matplotlib.pyplot as plt \n",
    "\n"
   ]
  },
  {
   "cell_type": "code",
   "execution_count": 217,
   "metadata": {},
   "outputs": [
    {
     "data": {
      "text/html": [
       "<div>\n",
       "<style scoped>\n",
       "    .dataframe tbody tr th:only-of-type {\n",
       "        vertical-align: middle;\n",
       "    }\n",
       "\n",
       "    .dataframe tbody tr th {\n",
       "        vertical-align: top;\n",
       "    }\n",
       "\n",
       "    .dataframe thead th {\n",
       "        text-align: right;\n",
       "    }\n",
       "</style>\n",
       "<table border=\"1\" class=\"dataframe\">\n",
       "  <thead>\n",
       "    <tr style=\"text-align: right;\">\n",
       "      <th></th>\n",
       "      <th>Video Link</th>\n",
       "      <th>Video Title</th>\n",
       "      <th>Channel URL</th>\n",
       "      <th>Creator Name</th>\n",
       "      <th>Creator Gender</th>\n",
       "      <th>Total Channel Subcribers</th>\n",
       "      <th>Total Chanel Views</th>\n",
       "      <th>Duration of Video</th>\n",
       "      <th>Date of Video Upload</th>\n",
       "      <th>No of Likes</th>\n",
       "      <th>...</th>\n",
       "      <th>Video Description</th>\n",
       "      <th>Hashtags</th>\n",
       "      <th>No of Comments</th>\n",
       "      <th>Date of the Last Comment</th>\n",
       "      <th>Maximum Quality of the Video</th>\n",
       "      <th>No of Videos the Channel</th>\n",
       "      <th>No of Playlist</th>\n",
       "      <th>Premiered or Not</th>\n",
       "      <th>Community Engagement (Posts per week)</th>\n",
       "      <th>Who Collected the Data</th>\n",
       "    </tr>\n",
       "  </thead>\n",
       "  <tbody>\n",
       "    <tr>\n",
       "      <th>0</th>\n",
       "      <td>https://youtu.be/f7CW7S0zxv4</td>\n",
       "      <td>Dr Shashi Tharoor MP Britain Does Owe Reparations</td>\n",
       "      <td>https://www.youtube.com/user/OxfordUnion</td>\n",
       "      <td>Shashi Tharoor</td>\n",
       "      <td>Male</td>\n",
       "      <td>1640000</td>\n",
       "      <td>259010134</td>\n",
       "      <td>00:15:29</td>\n",
       "      <td>2015-07-15</td>\n",
       "      <td>258000.0</td>\n",
       "      <td>...</td>\n",
       "      <td>Yes</td>\n",
       "      <td>0</td>\n",
       "      <td>32858</td>\n",
       "      <td>2022-08-28</td>\n",
       "      <td>1080</td>\n",
       "      <td>2300</td>\n",
       "      <td>60.0</td>\n",
       "      <td>No</td>\n",
       "      <td>0</td>\n",
       "      <td>Sanjay Lakshmanan</td>\n",
       "    </tr>\n",
       "    <tr>\n",
       "      <th>1</th>\n",
       "      <td>https://youtu.be/I7vz7Ym82_4</td>\n",
       "      <td>How India is TRAPPING China with its Military ...</td>\n",
       "      <td>https://www.youtube.com/c/ThinkSchool</td>\n",
       "      <td>Ganesh Prasad</td>\n",
       "      <td>Male</td>\n",
       "      <td>2240000</td>\n",
       "      <td>134172450</td>\n",
       "      <td>00:15:19</td>\n",
       "      <td>2022-05-15</td>\n",
       "      <td>255000.0</td>\n",
       "      <td>...</td>\n",
       "      <td>Yes</td>\n",
       "      <td>3</td>\n",
       "      <td>19309</td>\n",
       "      <td>2022-10-11</td>\n",
       "      <td>1080</td>\n",
       "      <td>171</td>\n",
       "      <td>9.0</td>\n",
       "      <td>Yes</td>\n",
       "      <td>7</td>\n",
       "      <td>Sanjay Lakshmanan</td>\n",
       "    </tr>\n",
       "    <tr>\n",
       "      <th>2</th>\n",
       "      <td>https://youtu.be/88w2MQpvhfU</td>\n",
       "      <td>Troll Video Bala Troll Albin Joshy</td>\n",
       "      <td>https://www.youtube.com/c/ALBiNJOSHY</td>\n",
       "      <td>Albin Joshy</td>\n",
       "      <td>Male</td>\n",
       "      <td>693000</td>\n",
       "      <td>59728733</td>\n",
       "      <td>00:02:54</td>\n",
       "      <td>2021-09-29</td>\n",
       "      <td>47000.0</td>\n",
       "      <td>...</td>\n",
       "      <td>Yes</td>\n",
       "      <td>3</td>\n",
       "      <td>2454</td>\n",
       "      <td>2022-09-25</td>\n",
       "      <td>1080</td>\n",
       "      <td>317</td>\n",
       "      <td>4.0</td>\n",
       "      <td>No</td>\n",
       "      <td>2</td>\n",
       "      <td>Sanjay Lakshmanan</td>\n",
       "    </tr>\n",
       "    <tr>\n",
       "      <th>3</th>\n",
       "      <td>https://youtu.be/h2P9AmGcMdM</td>\n",
       "      <td>Russia – Ukraine conflict crisis Explained Eve...</td>\n",
       "      <td>https://www.youtube.com/c/AmitSenguptaAKS</td>\n",
       "      <td>Amit Sengupta</td>\n",
       "      <td>Male</td>\n",
       "      <td>1560000</td>\n",
       "      <td>131661727</td>\n",
       "      <td>00:34:31</td>\n",
       "      <td>2022-07-02</td>\n",
       "      <td>90000.0</td>\n",
       "      <td>...</td>\n",
       "      <td>Yes</td>\n",
       "      <td>3</td>\n",
       "      <td>9186</td>\n",
       "      <td>2022-09-21</td>\n",
       "      <td>1080</td>\n",
       "      <td>519</td>\n",
       "      <td>65.0</td>\n",
       "      <td>No</td>\n",
       "      <td>1</td>\n",
       "      <td>Sanjay Lakshmanan</td>\n",
       "    </tr>\n",
       "    <tr>\n",
       "      <th>4</th>\n",
       "      <td>https://youtu.be/HcYM1qHivXE</td>\n",
       "      <td>REACTION</td>\n",
       "      <td>https://www.youtube.com/c/Arjyouofficial</td>\n",
       "      <td>Arjun</td>\n",
       "      <td>Male</td>\n",
       "      <td>3540000</td>\n",
       "      <td>165621440</td>\n",
       "      <td>00:05:51</td>\n",
       "      <td>2020-02-05</td>\n",
       "      <td>707000.0</td>\n",
       "      <td>...</td>\n",
       "      <td>Yes</td>\n",
       "      <td>0</td>\n",
       "      <td>18811</td>\n",
       "      <td>2022-09-24</td>\n",
       "      <td>720</td>\n",
       "      <td>58</td>\n",
       "      <td>0.0</td>\n",
       "      <td>No</td>\n",
       "      <td>0</td>\n",
       "      <td>Sanjay Lakshmanan</td>\n",
       "    </tr>\n",
       "  </tbody>\n",
       "</table>\n",
       "<p>5 rows × 22 columns</p>\n",
       "</div>"
      ],
      "text/plain": [
       "                     Video Link  \\\n",
       "0  https://youtu.be/f7CW7S0zxv4   \n",
       "1  https://youtu.be/I7vz7Ym82_4   \n",
       "2  https://youtu.be/88w2MQpvhfU   \n",
       "3  https://youtu.be/h2P9AmGcMdM   \n",
       "4  https://youtu.be/HcYM1qHivXE   \n",
       "\n",
       "                                         Video Title  \\\n",
       "0  Dr Shashi Tharoor MP Britain Does Owe Reparations   \n",
       "1  How India is TRAPPING China with its Military ...   \n",
       "2                 Troll Video Bala Troll Albin Joshy   \n",
       "3  Russia – Ukraine conflict crisis Explained Eve...   \n",
       "4                                           REACTION   \n",
       "\n",
       "                                 Channel URL    Creator Name Creator Gender  \\\n",
       "0   https://www.youtube.com/user/OxfordUnion  Shashi Tharoor           Male   \n",
       "1      https://www.youtube.com/c/ThinkSchool   Ganesh Prasad           Male   \n",
       "2       https://www.youtube.com/c/ALBiNJOSHY     Albin Joshy           Male   \n",
       "3  https://www.youtube.com/c/AmitSenguptaAKS   Amit Sengupta           Male   \n",
       "4   https://www.youtube.com/c/Arjyouofficial           Arjun           Male   \n",
       "\n",
       "  Total Channel Subcribers Total Chanel Views Duration of Video  \\\n",
       "0                  1640000          259010134          00:15:29   \n",
       "1                  2240000          134172450          00:15:19   \n",
       "2                   693000           59728733          00:02:54   \n",
       "3                  1560000          131661727          00:34:31   \n",
       "4                  3540000          165621440          00:05:51   \n",
       "\n",
       "  Date of Video Upload  No of Likes  ... Video Description Hashtags  \\\n",
       "0           2015-07-15     258000.0  ...               Yes        0   \n",
       "1           2022-05-15     255000.0  ...               Yes        3   \n",
       "2           2021-09-29      47000.0  ...               Yes        3   \n",
       "3           2022-07-02      90000.0  ...               Yes        3   \n",
       "4           2020-02-05     707000.0  ...               Yes        0   \n",
       "\n",
       "  No of Comments  Date of the Last Comment  Maximum Quality of the Video  \\\n",
       "0          32858                2022-08-28                          1080   \n",
       "1          19309                2022-10-11                          1080   \n",
       "2           2454                2022-09-25                          1080   \n",
       "3           9186                2022-09-21                          1080   \n",
       "4          18811                2022-09-24                           720   \n",
       "\n",
       "  No of Videos the Channel  No of Playlist  Premiered or Not  \\\n",
       "0                     2300            60.0                No   \n",
       "1                      171             9.0               Yes   \n",
       "2                      317             4.0                No   \n",
       "3                      519            65.0                No   \n",
       "4                       58             0.0                No   \n",
       "\n",
       "   Community Engagement (Posts per week) Who Collected the Data  \n",
       "0                                      0      Sanjay Lakshmanan  \n",
       "1                                      7      Sanjay Lakshmanan  \n",
       "2                                      2      Sanjay Lakshmanan  \n",
       "3                                      1      Sanjay Lakshmanan  \n",
       "4                                      0      Sanjay Lakshmanan  \n",
       "\n",
       "[5 rows x 22 columns]"
      ]
     },
     "execution_count": 217,
     "metadata": {},
     "output_type": "execute_result"
    }
   ],
   "source": [
    "# Reading file into dataframe \n",
    "file_path = \"youtube.xlsx\"\n",
    "new_data = pd.read_excel(file_path)\n",
    "new_data = pd.DataFrame(new_data)\n",
    "new_data.head()"
   ]
  },
  {
   "cell_type": "markdown",
   "metadata": {},
   "source": [
    "Take an initial look at the data available on a high level. The first five rows are usually a good representation of the rest of the dateset"
   ]
  },
  {
   "cell_type": "markdown",
   "metadata": {},
   "source": [
    "Its important to understand all the columns available. Since we cannot see all the columns in the .head() view, we can use dtypes() to get column names and types"
   ]
  },
  {
   "cell_type": "code",
   "execution_count": 218,
   "metadata": {},
   "outputs": [
    {
     "data": {
      "text/plain": [
       "(1096, 22)"
      ]
     },
     "execution_count": 218,
     "metadata": {},
     "output_type": "execute_result"
    }
   ],
   "source": [
    "new_data.shape"
   ]
  },
  {
   "cell_type": "code",
   "execution_count": 219,
   "metadata": {},
   "outputs": [
    {
     "data": {
      "text/html": [
       "<div>\n",
       "<style scoped>\n",
       "    .dataframe tbody tr th:only-of-type {\n",
       "        vertical-align: middle;\n",
       "    }\n",
       "\n",
       "    .dataframe tbody tr th {\n",
       "        vertical-align: top;\n",
       "    }\n",
       "\n",
       "    .dataframe thead th {\n",
       "        text-align: right;\n",
       "    }\n",
       "</style>\n",
       "<table border=\"1\" class=\"dataframe\">\n",
       "  <thead>\n",
       "    <tr style=\"text-align: right;\">\n",
       "      <th></th>\n",
       "      <th>No of Likes</th>\n",
       "      <th>Hashtags</th>\n",
       "      <th>No of Comments</th>\n",
       "      <th>Maximum Quality of the Video</th>\n",
       "      <th>No of Videos the Channel</th>\n",
       "      <th>No of Playlist</th>\n",
       "      <th>Community Engagement (Posts per week)</th>\n",
       "    </tr>\n",
       "  </thead>\n",
       "  <tbody>\n",
       "    <tr>\n",
       "      <th>count</th>\n",
       "      <td>1.095000e+03</td>\n",
       "      <td>1096.000000</td>\n",
       "      <td>1.096000e+03</td>\n",
       "      <td>1096.000000</td>\n",
       "      <td>1096.000000</td>\n",
       "      <td>1088.000000</td>\n",
       "      <td>1096.000000</td>\n",
       "    </tr>\n",
       "    <tr>\n",
       "      <th>mean</th>\n",
       "      <td>6.706361e+05</td>\n",
       "      <td>0.998175</td>\n",
       "      <td>3.985704e+04</td>\n",
       "      <td>1249.598540</td>\n",
       "      <td>5404.470803</td>\n",
       "      <td>101.272059</td>\n",
       "      <td>4.440693</td>\n",
       "    </tr>\n",
       "    <tr>\n",
       "      <th>std</th>\n",
       "      <td>3.108423e+06</td>\n",
       "      <td>1.762107</td>\n",
       "      <td>3.546731e+05</td>\n",
       "      <td>429.290828</td>\n",
       "      <td>25305.647306</td>\n",
       "      <td>542.773503</td>\n",
       "      <td>18.170983</td>\n",
       "    </tr>\n",
       "    <tr>\n",
       "      <th>min</th>\n",
       "      <td>0.000000e+00</td>\n",
       "      <td>0.000000</td>\n",
       "      <td>0.000000e+00</td>\n",
       "      <td>240.000000</td>\n",
       "      <td>2.000000</td>\n",
       "      <td>0.000000</td>\n",
       "      <td>0.000000</td>\n",
       "    </tr>\n",
       "    <tr>\n",
       "      <th>25%</th>\n",
       "      <td>6.800000e+03</td>\n",
       "      <td>0.000000</td>\n",
       "      <td>2.800000e+02</td>\n",
       "      <td>1080.000000</td>\n",
       "      <td>157.750000</td>\n",
       "      <td>7.000000</td>\n",
       "      <td>0.000000</td>\n",
       "    </tr>\n",
       "    <tr>\n",
       "      <th>50%</th>\n",
       "      <td>3.900000e+04</td>\n",
       "      <td>0.000000</td>\n",
       "      <td>1.500000e+03</td>\n",
       "      <td>1080.000000</td>\n",
       "      <td>443.000000</td>\n",
       "      <td>18.000000</td>\n",
       "      <td>1.000000</td>\n",
       "    </tr>\n",
       "    <tr>\n",
       "      <th>75%</th>\n",
       "      <td>2.160000e+05</td>\n",
       "      <td>2.000000</td>\n",
       "      <td>8.515250e+03</td>\n",
       "      <td>1080.000000</td>\n",
       "      <td>1500.000000</td>\n",
       "      <td>54.000000</td>\n",
       "      <td>2.250000</td>\n",
       "    </tr>\n",
       "    <tr>\n",
       "      <th>max</th>\n",
       "      <td>4.900000e+07</td>\n",
       "      <td>28.000000</td>\n",
       "      <td>7.380000e+06</td>\n",
       "      <td>2160.000000</td>\n",
       "      <td>420000.000000</td>\n",
       "      <td>6000.000000</td>\n",
       "      <td>341.000000</td>\n",
       "    </tr>\n",
       "  </tbody>\n",
       "</table>\n",
       "</div>"
      ],
      "text/plain": [
       "        No of Likes     Hashtags  No of Comments  \\\n",
       "count  1.095000e+03  1096.000000    1.096000e+03   \n",
       "mean   6.706361e+05     0.998175    3.985704e+04   \n",
       "std    3.108423e+06     1.762107    3.546731e+05   \n",
       "min    0.000000e+00     0.000000    0.000000e+00   \n",
       "25%    6.800000e+03     0.000000    2.800000e+02   \n",
       "50%    3.900000e+04     0.000000    1.500000e+03   \n",
       "75%    2.160000e+05     2.000000    8.515250e+03   \n",
       "max    4.900000e+07    28.000000    7.380000e+06   \n",
       "\n",
       "       Maximum Quality of the Video  No of Videos the Channel  No of Playlist  \\\n",
       "count                   1096.000000               1096.000000     1088.000000   \n",
       "mean                    1249.598540               5404.470803      101.272059   \n",
       "std                      429.290828              25305.647306      542.773503   \n",
       "min                      240.000000                  2.000000        0.000000   \n",
       "25%                     1080.000000                157.750000        7.000000   \n",
       "50%                     1080.000000                443.000000       18.000000   \n",
       "75%                     1080.000000               1500.000000       54.000000   \n",
       "max                     2160.000000             420000.000000     6000.000000   \n",
       "\n",
       "       Community Engagement (Posts per week)  \n",
       "count                            1096.000000  \n",
       "mean                                4.440693  \n",
       "std                                18.170983  \n",
       "min                                 0.000000  \n",
       "25%                                 0.000000  \n",
       "50%                                 1.000000  \n",
       "75%                                 2.250000  \n",
       "max                               341.000000  "
      ]
     },
     "execution_count": 219,
     "metadata": {},
     "output_type": "execute_result"
    }
   ],
   "source": [
    "new_data.describe()"
   ]
  },
  {
   "cell_type": "code",
   "execution_count": 220,
   "metadata": {},
   "outputs": [
    {
     "name": "stdout",
     "output_type": "stream",
     "text": [
      "<class 'pandas.core.frame.DataFrame'>\n",
      "RangeIndex: 1096 entries, 0 to 1095\n",
      "Data columns (total 22 columns):\n",
      " #   Column                                 Non-Null Count  Dtype         \n",
      "---  ------                                 --------------  -----         \n",
      " 0   Video Link                             1096 non-null   object        \n",
      " 1   Video Title                            1096 non-null   object        \n",
      " 2   Channel URL                            1096 non-null   object        \n",
      " 3   Creator Name                           1096 non-null   object        \n",
      " 4   Creator Gender                         672 non-null    object        \n",
      " 5   Total Channel Subcribers               1096 non-null   object        \n",
      " 6   Total Chanel Views                     1096 non-null   object        \n",
      " 7   Duration of Video                      1096 non-null   object        \n",
      " 8   Date of Video Upload                   1096 non-null   datetime64[ns]\n",
      " 9   No of Likes                            1095 non-null   float64       \n",
      " 10  Language of the Video                  1062 non-null   object        \n",
      " 11  Subtitle                               1095 non-null   object        \n",
      " 12  Video Description                      1096 non-null   object        \n",
      " 13  Hashtags                               1096 non-null   int64         \n",
      " 14  No of Comments                         1096 non-null   int64         \n",
      " 15  Date of the Last Comment               1066 non-null   datetime64[ns]\n",
      " 16  Maximum Quality of the Video           1096 non-null   int64         \n",
      " 17  No of Videos the Channel               1096 non-null   int64         \n",
      " 18  No of Playlist                         1088 non-null   float64       \n",
      " 19  Premiered or Not                       1096 non-null   object        \n",
      " 20  Community Engagement (Posts per week)  1096 non-null   int64         \n",
      " 21  Who Collected the Data                 1096 non-null   object        \n",
      "dtypes: datetime64[ns](2), float64(2), int64(5), object(13)\n",
      "memory usage: 188.5+ KB\n"
     ]
    }
   ],
   "source": [
    "new_data.info()"
   ]
  },
  {
   "cell_type": "markdown",
   "metadata": {},
   "source": [
    "Based on this we know we have some numeric columns, some object columns and some datetime columns. Later in the EDA process we can convert some of the obect columns to categorical columns. We can further look into the numeric columns available and some summary statistics"
   ]
  },
  {
   "cell_type": "markdown",
   "metadata": {},
   "source": [
    "Diving into the target variable: \n"
   ]
  },
  {
   "cell_type": "code",
   "execution_count": 221,
   "metadata": {},
   "outputs": [
    {
     "data": {
      "image/png": "[encoded data removed]",
      "text/plain": [
       "<Figure size 800x600 with 1 Axes>"
      ]
     },
     "metadata": {},
     "output_type": "display_data"
    }
   ],
   "source": [
    "fig, ax = plt.subplots(figsize=(8, 6))\n",
    "ax.hist(new_data['No of Likes'], bins=100, color='skyblue', edgecolor='gray')\n",
    "ax.set_xlabel(\"Number of Likes\")\n",
    "ax.set_ylabel(\"Frequency\")\n",
    "ax.set_title(\"Distribution of Likes\")\n",
    "plt.grid(True)"
   ]
  },
  {
   "cell_type": "code",
   "execution_count": 222,
   "metadata": {},
   "outputs": [],
   "source": [
    "new_data['Subtitle'].unique()\n",
    "new_data['Premiered or Not'].unique()\n",
    "new_data['Hashtags'].unique()\n",
    "new_data = new_data[new_data['Hashtags']!=28]"
   ]
  },
  {
   "cell_type": "markdown",
   "metadata": {},
   "source": [
    "### Missing values and Cleaning the Data"
   ]
  },
  {
   "cell_type": "markdown",
   "metadata": {},
   "source": [
    "First we can fix any weird column values "
   ]
  },
  {
   "cell_type": "code",
   "execution_count": 223,
   "metadata": {},
   "outputs": [
    {
     "data": {
      "text/plain": [
       "array(['Yes', 'No', 'yes', nan], dtype=object)"
      ]
     },
     "execution_count": 223,
     "metadata": {},
     "output_type": "execute_result"
    }
   ],
   "source": [
    "new_data['Subtitle'].unique()"
   ]
  },
  {
   "cell_type": "code",
   "execution_count": 224,
   "metadata": {},
   "outputs": [],
   "source": [
    "new_data['Subtitle'] = new_data['Subtitle'].fillna('No')\n",
    "new_data['Subtitle'] = [i.lower() for i in new_data['Subtitle']]\n",
    "new_data['Premiered or Not'] = [i.lower() for i in new_data['Premiered or Not']]"
   ]
  },
  {
   "cell_type": "code",
   "execution_count": 225,
   "metadata": {},
   "outputs": [
    {
     "data": {
      "text/plain": [
       "array(['yes', 'no'], dtype=object)"
      ]
     },
     "execution_count": 225,
     "metadata": {},
     "output_type": "execute_result"
    }
   ],
   "source": [
    "new_data['Subtitle'].unique()"
   ]
  },
  {
   "cell_type": "markdown",
   "metadata": {},
   "source": [
    "Now we can check for any missing values "
   ]
  },
  {
   "cell_type": "code",
   "execution_count": 209,
   "metadata": {},
   "outputs": [
    {
     "data": {
      "text/plain": [
       "Video Link                                 0\n",
       "Video Title                                0\n",
       "Channel URL                                0\n",
       "Creator Name                               0\n",
       "Creator Gender                           423\n",
       "Total Channel Subcribers                   0\n",
       "Total Chanel Views                         0\n",
       "Duration of Video                          0\n",
       "Date of Video Upload                       0\n",
       "No of Likes                                1\n",
       "Language of the Video                     34\n",
       "Subtitle                                   0\n",
       "Video Description                          0\n",
       "Hashtags                                   0\n",
       "No of Comments                             0\n",
       "Date of the Last Comment                  30\n",
       "Maximum Quality of the Video               0\n",
       "No of Videos the Channel                   0\n",
       "No of Playlist                             8\n",
       "Premiered or Not                           0\n",
       "Community Engagement (Posts per week)      0\n",
       "Who Collected the Data                     0\n",
       "dtype: int64"
      ]
     },
     "execution_count": 209,
     "metadata": {},
     "output_type": "execute_result"
    }
   ],
   "source": [
    "new_data.isna().sum()"
   ]
  },
  {
   "cell_type": "markdown",
   "metadata": {},
   "source": [
    "There are NA values in Creator Gender, No of Likes, Language of the Video, Subtitles and Date of Last Comment. We can handle the missing values in Language of Video and Date of Last Comment by replacing them with -1's. Since they are categorical variables, changing them to -1 will allow us to know that any -1 category is just a missing value. We can also replace the missing value in No of Likes with 0 since it is a numeric variable, using 0 would not affect any calculation of metrics"
   ]
  },
  {
   "cell_type": "code",
   "execution_count": 210,
   "metadata": {},
   "outputs": [],
   "source": [
    "new_data['No of Likes'] = new_data['No of Likes'].fillna(0)\n",
    "new_data['Language of the Video'] = new_data['Language of the Video'].fillna(-1)\n",
    "new_data['Subtitle'] = new_data['Subtitle'].fillna('no')\n",
    "new_data['Date of the Last Comment'] = new_data['Date of the Last Comment'].fillna(-1)\n"
   ]
  },
  {
   "cell_type": "code",
   "execution_count": 211,
   "metadata": {},
   "outputs": [
    {
     "data": {
      "text/plain": [
       "Video Link                                 0\n",
       "Video Title                                0\n",
       "Channel URL                                0\n",
       "Creator Name                               0\n",
       "Creator Gender                           423\n",
       "Total Channel Subcribers                   0\n",
       "Total Chanel Views                         0\n",
       "Duration of Video                          0\n",
       "Date of Video Upload                       0\n",
       "No of Likes                                0\n",
       "Language of the Video                      0\n",
       "Subtitle                                   0\n",
       "Video Description                          0\n",
       "Hashtags                                   0\n",
       "No of Comments                             0\n",
       "Date of the Last Comment                   0\n",
       "Maximum Quality of the Video               0\n",
       "No of Videos the Channel                   0\n",
       "No of Playlist                             8\n",
       "Premiered or Not                           0\n",
       "Community Engagement (Posts per week)      0\n",
       "Who Collected the Data                     0\n",
       "dtype: int64"
      ]
     },
     "execution_count": 211,
     "metadata": {},
     "output_type": "execute_result"
    }
   ],
   "source": [
    "new_data.isna().sum()"
   ]
  },
  {
   "cell_type": "markdown",
   "metadata": {},
   "source": [
    " This is an important stage of the process as missing values can cause issues when we are plotting, calculcating metrics or modelling. Replacing missing values with something is called imputing. In this case we chose to replace missing values with 0's since 0's would not affect calculations and this way we are not losing any data. Since we still have many missing values in Creator Gender, let dive deeper into trying to understand why"
   ]
  },
  {
   "cell_type": "markdown",
   "metadata": {},
   "source": [
    "It seems that for most of the Creator Gender rows that are null, it is because the video is not by a single person but by a Company, which has no gender. Instead of filling this missing values with a number, we can create a third category called \"Company\" for these values"
   ]
  },
  {
   "cell_type": "code",
   "execution_count": 212,
   "metadata": {},
   "outputs": [
    {
     "data": {
      "text/plain": [
       "array(['BJP', 'BestieMedia', 'Brut India', 'bureau of meteorology',\n",
       "       'CRUX news', 'Delhi Knowledge Track', 'Desh Gujarat HD',\n",
       "       'Down to earth magazine', 'Drishti IAS English', 'Farmers Friend',\n",
       "       'Kerala Police', 'lumiere Wedding Company', 'Pib India',\n",
       "       'Sony Sports Network', 'The better india', 'The Gebonions',\n",
       "       'Sony Music South', 'kappa tv', 'Mossy Earth', 'your story tv',\n",
       "       'CNBC', 'Lesics', 'Sarmaya Arts Foundation', 'DC Books',\n",
       "       'United nations', 'The quint', 'WION', 'ThinkSchool',\n",
       "       'Karikku Fresh', 'ABB Formula E', 'ABC News', 'All India Bakchod',\n",
       "       'Armadas', 'Batman Arkham', 'BBC News', 'Bey Toons India',\n",
       "       'Branch Education', 'Bugatti', 'Call of Duty',\n",
       "       'Cartoon Network India', 'Castrol', 'Clash of Clans',\n",
       "       'CNBC Make I', 'CNET', 'Corridor', 'DC', 'Disney', 'DJI',\n",
       "       'DW Documentary', 'Edureka', 'GMC', 'Green Gold TV', 'Lamborghini',\n",
       "       'Marvel', 'McLaren Automotive', 'Motech', 'MotoGP',\n",
       "       'Need for Speed', 'Netflix', 'One Direction', 'Pagani Automobili',\n",
       "       'PlayStation', 'Pokémon Asia Officia', 'Porsche', 'Prime',\n",
       "       'PUBG: BATTLEGROUNDS', 'RC MEDIA WORLD', 'Simplilearn', 'TEDx',\n",
       "       'Tesery', 'The BLUNT', 'The Economist', 'The Screen Patti',\n",
       "       'The Viral Fever', 'Ubisoft', 'Warner Bros', 'WB Kids', 'WIRED',\n",
       "       'WranglerJKLS', 'Xpertgamingtech', 'Vogue', 'Hoog',\n",
       "       'Business Insider', 'The Infographics Show', 'Top Luxury',\n",
       "       'What If', 'Kurzgesagt – In a Nutshell', 'Destiny', 'Generalkidd',\n",
       "       'HUM Music', 'ARY Digital HD', 'Sounds of Isha',\n",
       "       'Conscious Planet', 'Veritasium', 'Indian Monk', 'T-Series',\n",
       "       'SagaHits', 'ICE', 'FilterCopy', 'V101Science', 'Kindness For you',\n",
       "       'Stryxo', 'The Space Race', 'ABC News In-depth', 'TRS Clips हिंदी',\n",
       "       'Dahir Insaat', 'FactFile', 'BRIGHT SIDE', 'Cute Hub',\n",
       "       'REAL SPACE', 'Supercar Blondie', 'JoBlo Animated Videos',\n",
       "       'Midnight Chill', 'GameClips', 'Netflix India', 'Slayy Point',\n",
       "       'Gaming Moments', 'Simplified Explanation', 'etvteluguindia',\n",
       "       'Volga Video', 'The Quint', 'Wild Tusker Sakrebylu',\n",
       "       'Free Documentary', 'Official Triumph Motorcycles', 'MetroSaga',\n",
       "       'Medcircle', 'Life Noggin', 'Udyansh Society', 'Aroundbi',\n",
       "       'Blockshelf', 'Packattack04082', 'Dji', 'Mad Lab', 'Ted-Ed',\n",
       "       'Muse Asia', 'Datascience Roadmap', 'Fluctus', 'Videotragic',\n",
       "       '100 Years Of Health', 'Other Level’S', 'Edureka!',\n",
       "       'Shining Talent', 'Tedx Talks', 'Harvard University',\n",
       "       'Wildgamersk', 'Muaxh03', 'Top Generality', 'Yidircars',\n",
       "       'Car Crash - Driving Fail', 'Einzelgänger',\n",
       "       'The Church Of Almighty God', 'Scenic Scenes', 'Sidenote',\n",
       "       'Dji Tutorials', 'Acvideos', 'Daily Motivation',\n",
       "       'Law Of Attraction Coaching', 'Watchgecko', 'Freecodecamp.Org',\n",
       "       '\\nMercedes-Benz USA\\n', 'CAR CHANNEL', 'GT cars', '\\nTrend Max\\n',\n",
       "       'touropia', '\\nNational Geographic\\n', '\\nThe Guardian\\n',\n",
       "       '\\nGreat Big Story\\n', 'Codename RedDragon', 'TheUnrevolutionized',\n",
       "       'IGN', 'MKIceAndFire', '\\nBatman Arkham\\n', 'AJ+', 'BBC', 'CNN',\n",
       "       'Hindustan Times', 'newslanudry', 'TRT', 'Al Jazeera English',\n",
       "       'GP Culture', 'DD INDIA', 'Guardian Sport', 'SonyLIV',\n",
       "       'English Speeches', '\\nGQ\\n', '\\nAshStudio7\\n', 'Dude perfect',\n",
       "       '\\nVariant Comics\\n', '\\nImagine Dragons Live', 'Janson Media',\n",
       "       'Motivation Mentors', '\\nNDTV\\n', 'History', 'Forged in Fire',\n",
       "       'UFC - Ultimate Fighting Championship', 'BehindwoodsTV',\n",
       "       'GERMAN TELEVISION', 'Moto Zip', 'MotorOctane', 'Nakkalites',\n",
       "       'Newsflare', 'Power Drift', 'Sothanaigal', 'Theneer Idaivelai',\n",
       "       'Marvel Entertainment', 'Epicurious', 'AshStudio7'], dtype=object)"
      ]
     },
     "execution_count": 212,
     "metadata": {},
     "output_type": "execute_result"
    }
   ],
   "source": [
    "new_data[new_data['Creator Gender'].isna()]['Creator Name'].unique()"
   ]
  },
  {
   "cell_type": "code",
   "execution_count": 213,
   "metadata": {},
   "outputs": [],
   "source": [
    "new_data['Creator Gender'] = new_data['Creator Gender'].fillna('Company')"
   ]
  },
  {
   "cell_type": "markdown",
   "metadata": {},
   "source": [
    "Now we can convert columns that are currently objects, to categorical variables so we can later understand all distirbutions"
   ]
  },
  {
   "cell_type": "code",
   "execution_count": 214,
   "metadata": {},
   "outputs": [
    {
     "data": {
      "text/plain": [
       "Video Link                                       object\n",
       "Video Title                                      object\n",
       "Channel URL                                      object\n",
       "Creator Name                                     object\n",
       "Creator Gender                                   object\n",
       "Total Channel Subcribers                         object\n",
       "Total Chanel Views                               object\n",
       "Duration of Video                                object\n",
       "Date of Video Upload                     datetime64[ns]\n",
       "No of Likes                                     float64\n",
       "Language of the Video                            object\n",
       "Subtitle                                         object\n",
       "Video Description                                object\n",
       "Hashtags                                          int64\n",
       "No of Comments                                    int64\n",
       "Date of the Last Comment                         object\n",
       "Maximum Quality of the Video                      int64\n",
       "No of Videos the Channel                          int64\n",
       "No of Playlist                                  float64\n",
       "Premiered or Not                                 object\n",
       "Community Engagement (Posts per week)             int64\n",
       "Who Collected the Data                           object\n",
       "dtype: object"
      ]
     },
     "execution_count": 214,
     "metadata": {},
     "output_type": "execute_result"
    }
   ],
   "source": [
    "new_data.dtypes"
   ]
  },
  {
   "cell_type": "code",
   "execution_count": 215,
   "metadata": {},
   "outputs": [],
   "source": [
    "new_data['Creator Gender'] = pd.Categorical(new_data['Creator Gender'])\n",
    "new_data['Language of the Video'] = pd.Categorical(new_data['Language of the Video'])\n",
    "new_data['Subtitle'] = pd.Categorical(new_data['Subtitle'])\n",
    "new_data['Premiered or Not'] = pd.Categorical(new_data['Premiered or Not'])\n",
    "new_data['Hashtags'] = pd.to_numeric(new_data['Hashtags'])"
   ]
  },
  {
   "cell_type": "code",
   "execution_count": 190,
   "metadata": {},
   "outputs": [
    {
     "data": {
      "text/plain": [
       "Video Link                                       object\n",
       "Video Title                                      object\n",
       "Channel URL                                      object\n",
       "Creator Name                                     object\n",
       "Creator Gender                                 category\n",
       "Total Channel Subcribers                         object\n",
       "Total Chanel Views                               object\n",
       "Duration of Video                                object\n",
       "Date of Video Upload                     datetime64[ns]\n",
       "No of Likes                                     float64\n",
       "Language of the Video                          category\n",
       "Subtitle                                       category\n",
       "Video Description                                object\n",
       "Hashtags                                          int64\n",
       "No of Comments                                    int64\n",
       "Date of the Last Comment                         object\n",
       "Maximum Quality of the Video                      int64\n",
       "No of Videos the Channel                          int64\n",
       "No of Playlist                                  float64\n",
       "Premiered or Not                               category\n",
       "Community Engagement (Posts per week)             int64\n",
       "Who Collected the Data                           object\n",
       "dtype: object"
      ]
     },
     "execution_count": 190,
     "metadata": {},
     "output_type": "execute_result"
    }
   ],
   "source": [
    "new_data.dtypes"
   ]
  },
  {
   "cell_type": "markdown",
   "metadata": {},
   "source": [
    "### Visualizing Column Distributions"
   ]
  },
  {
   "cell_type": "code",
   "execution_count": 171,
   "metadata": {},
   "outputs": [
    {
     "data": {
      "text/plain": [
       "(0.0, 974000.0)"
      ]
     },
     "execution_count": 171,
     "metadata": {},
     "output_type": "execute_result"
    },
    {
     "data": {
      "image/png": "[encoded data removed]",
      "text/plain": [
       "<Figure size 1200x800 with 1 Axes>"
      ]
     },
     "metadata": {},
     "output_type": "display_data"
    }
   ],
   "source": [
    "# Create a scatter plot\n",
    "plt.figure(figsize=(12, 8))\n",
    "plt.scatter(new_data['Total Channel Subcribers'], new_data['No of Likes'], color='#A7C7E7')  # Adjust the color and transparency as needed\n",
    "plt.title('Scatter Plot of No. of Likes vs. No. of Subscribers')\n",
    "plt.xlabel('No. of Subscribers')\n",
    "plt.ylabel('No. of Likes')\n",
    "plt.grid(True)  # Add a grid for better visualization\n",
    "plt.xlim(0,9940000 )\n",
    "plt.ylim(0,974000 )\n",
    "# Display the plot"
   ]
  },
  {
   "cell_type": "markdown",
   "metadata": {},
   "source": [
    "We chose a Scatter plot was selected to explore the relationship between the number of subscribers and the number of likes. This illustrates whether there’s a correlation or pattern between these two variables; higher subscribers might lead to more likes."
   ]
  },
  {
   "cell_type": "code",
   "execution_count": 165,
   "metadata": {},
   "outputs": [
    {
     "data": {
      "text/plain": [
       "([<matplotlib.axis.XTick at 0x16bc169d0>,\n",
       "  <matplotlib.axis.XTick at 0x16bc14090>,\n",
       "  <matplotlib.axis.XTick at 0x16bbdcf10>,\n",
       "  <matplotlib.axis.XTick at 0x157d15a10>,\n",
       "  <matplotlib.axis.XTick at 0x16bbaea90>,\n",
       "  <matplotlib.axis.XTick at 0x16bbbd150>,\n",
       "  <matplotlib.axis.XTick at 0x16bbbf150>,\n",
       "  <matplotlib.axis.XTick at 0x16bbc7490>,\n",
       "  <matplotlib.axis.XTick at 0x16bbbdc10>,\n",
       "  <matplotlib.axis.XTick at 0x169d89150>,\n",
       "  <matplotlib.axis.XTick at 0x16bb88910>,\n",
       "  <matplotlib.axis.XTick at 0x16bb8b3d0>],\n",
       " [Text(0, 0, '0'),\n",
       "  Text(1, 0, '1'),\n",
       "  Text(2, 0, '2'),\n",
       "  Text(3, 0, '3'),\n",
       "  Text(4, 0, '4'),\n",
       "  Text(5, 0, '5'),\n",
       "  Text(6, 0, '6'),\n",
       "  Text(7, 0, '7'),\n",
       "  Text(8, 0, '8'),\n",
       "  Text(9, 0, '9'),\n",
       "  Text(10, 0, '10'),\n",
       "  Text(11, 0, '11')])"
      ]
     },
     "execution_count": 165,
     "metadata": {},
     "output_type": "execute_result"
    },
    {
     "data": {
      "image/png": "[encoded data removed]",
      "text/plain": [
       "<Figure size 1200x800 with 1 Axes>"
      ]
     },
     "metadata": {},
     "output_type": "display_data"
    }
   ],
   "source": [
    "average_likes_by_hashtags = new_data.groupby('Hashtags')['No of Likes'].mean().reset_index()\n",
    "# Create a bar chart\n",
    "plt.figure(figsize=(12, 8))\n",
    "plt.bar(average_likes_by_hashtags['Hashtags'], average_likes_by_hashtags['No of Likes'], color='#A7C7E7')\n",
    "plt.title('Average Number of Likes by Number of Hashtags')\n",
    "plt.xlabel('Number of Hashtags')\n",
    "plt.ylabel('Average Number of Likes')\n",
    "plt.grid(axis='y', linestyle='--', alpha=0.7)\n",
    "plt.xticks(average_likes_by_hashtags['Hashtags'])"
   ]
  },
  {
   "cell_type": "markdown",
   "metadata": {},
   "source": [
    "Bar chart was used to display the average number of likes for different numbers of hashtags. This shows whether the use of hashtags has an impact on the average likes; higher bars indicate potentially higher engagement for certain hashtag counts."
   ]
  }
 ],
 "metadata": {
  "kernelspec": {
   "display_name": "base",
   "language": "python",
   "name": "python3"
  },
  "language_info": {
   "codemirror_mode": {
    "name": "ipython",
    "version": 3
   },
   "file_extension": ".py",
   "mimetype": "text/x-python",
   "name": "python",
   "nbconvert_exporter": "python",
   "pygments_lexer": "ipython3",
   "version": "3.11.0"
  },
  "orig_nbformat": 4
 },
 "nbformat": 4,
 "nbformat_minor": 2
}
